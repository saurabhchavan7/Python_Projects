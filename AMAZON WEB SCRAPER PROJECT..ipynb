{
 "cells": [
  {
   "cell_type": "markdown",
   "id": "76881c5a",
   "metadata": {},
   "source": [
    "# AMAZON WEB SCRAPER PROJECT"
   ]
  },
  {
   "cell_type": "code",
   "execution_count": 1,
   "id": "2d39392b",
   "metadata": {},
   "outputs": [],
   "source": [
    "# import libraries\n",
    "\n",
    "from bs4 import BeautifulSoup\n",
    "import requests\n",
    "import time\n",
    "import datetime\n",
    "\n",
    "import smtplib #these libraries is used to send emails to sel"
   ]
  },
  {
   "cell_type": "code",
   "execution_count": 2,
   "id": "c39d21a3",
   "metadata": {},
   "outputs": [
    {
     "name": "stdout",
     "output_type": "stream",
     "text": [
      "\n",
      "            Brother DCP-T426W - Wi-Fi Color Ink Tank Multifunction (Print, Scan & Copy) All in One Printer for Home\n",
      "           \n",
      "13,699.\n"
     ]
    }
   ],
   "source": [
    "#connect to website \n",
    "\n",
    "URL = 'https://www.amazon.in/Brother-DCP-T426W-Wi-Fi-Multifunction-Printer/dp/B0B38NFCCQ/ref=sr_1_7?keywords=brother+printer&qid=1687196122&sprefix=brother%2Caps%2C295&sr=8-7'\n",
    "\n",
    "#no need to remeber the  header \n",
    "headers =  {\"User-Agent\": \"Mozilla/5.0 (Windows NT 10.0; Win64; x64) AppleWebKit/537.36 (KHTML, like Gecko) Chrome/114.0.0.0 Safari/537.36\"}\n",
    "\n",
    "\n",
    "page = requests.get(URL, headers=headers)\n",
    "\n",
    "soup1 = BeautifulSoup(page.content,\"html.parser\")\n",
    "\n",
    "soup2 = BeautifulSoup(soup1.prettify(),'html.parser')\n",
    "\n",
    "#print(soup2)\n",
    "\n",
    "# will get  all the html that will get from brother printer when we right click and click inspect\n",
    "\n",
    "\n",
    "title = soup2.find(id=\"productTitle\").get_text()\n",
    "\n",
    "# we can pull the price\n",
    "\n",
    "#price= soup2.find(id=\"corePriceDisplay_desktop_feature_div\").get_text()\n",
    "\n",
    "# Extract the price value using the class attribute\n",
    "price_element= soup1.find(class_='a-price-whole')\n",
    "price = price_element.get_text() if price_element else 'Price not found'\n",
    "\n",
    "\n",
    "\n",
    "\n",
    "print(title)\n",
    "print(price)\n",
    "\n",
    "\n",
    "\n"
   ]
  },
  {
   "cell_type": "code",
   "execution_count": 3,
   "id": "acc41ff0",
   "metadata": {},
   "outputs": [
    {
     "name": "stdout",
     "output_type": "stream",
     "text": [
      "Brother DCP-T426W - Wi-Fi Color Ink Tank Multifunction (Print, Scan & Copy) All in One Printer for Home\n",
      "13,699.\n"
     ]
    },
    {
     "data": {
      "text/plain": [
       "str"
      ]
     },
     "execution_count": 3,
     "metadata": {},
     "output_type": "execute_result"
    }
   ],
   "source": [
    "# Cleaning up the data a little bit\n",
    "\n",
    "price=price.strip()\n",
    "title = title.strip()\n",
    "\n",
    "print(title)\n",
    "print(price)\n",
    "type(price)"
   ]
  },
  {
   "cell_type": "code",
   "execution_count": 4,
   "id": "7c345ab8",
   "metadata": {},
   "outputs": [
    {
     "name": "stdout",
     "output_type": "stream",
     "text": [
      "2023-06-20\n"
     ]
    }
   ],
   "source": [
    "import datetime\n",
    "\n",
    "today = datetime.date.today()\n",
    "print(today)"
   ]
  },
  {
   "cell_type": "code",
   "execution_count": 5,
   "id": "3aabde19",
   "metadata": {},
   "outputs": [],
   "source": [
    "# Creating a CSV i.e. excel and writing headers and data into the file\n",
    "\n",
    "\n",
    "import csv\n",
    "\n",
    "header = ['Product_Title','Price','Date']\n",
    "data = [title,price,today]\n",
    "\n",
    "#type(data) \n",
    "\n",
    "with open('Amazon_Web_Scrapper_Dataset.csv','w',newline='', encoding='UTF8')as f:\n",
    "    \n",
    "    writer = csv.writer(f)  \n",
    "    writer.writerow(header)\n",
    "    writer.writerow(data)\n",
    "\n",
    "#once created or run  #mark it or else  will create new folder everytime i run these\n",
    "    "
   ]
  },
  {
   "cell_type": "code",
   "execution_count": 6,
   "id": "e23f7e16",
   "metadata": {},
   "outputs": [
    {
     "data": {
      "text/html": [
       "<div>\n",
       "<style scoped>\n",
       "    .dataframe tbody tr th:only-of-type {\n",
       "        vertical-align: middle;\n",
       "    }\n",
       "\n",
       "    .dataframe tbody tr th {\n",
       "        vertical-align: top;\n",
       "    }\n",
       "\n",
       "    .dataframe thead th {\n",
       "        text-align: right;\n",
       "    }\n",
       "</style>\n",
       "<table border=\"1\" class=\"dataframe\">\n",
       "  <thead>\n",
       "    <tr style=\"text-align: right;\">\n",
       "      <th></th>\n",
       "      <th>Product_Title</th>\n",
       "      <th>Price</th>\n",
       "      <th>Date</th>\n",
       "    </tr>\n",
       "  </thead>\n",
       "  <tbody>\n",
       "    <tr>\n",
       "      <th>0</th>\n",
       "      <td>Brother DCP-T426W - Wi-Fi Color Ink Tank Multi...</td>\n",
       "      <td>13,699.</td>\n",
       "      <td>2023-06-20</td>\n",
       "    </tr>\n",
       "  </tbody>\n",
       "</table>\n",
       "</div>"
      ],
      "text/plain": [
       "                                       Product_Title    Price        Date\n",
       "0  Brother DCP-T426W - Wi-Fi Color Ink Tank Multi...  13,699.  2023-06-20"
      ]
     },
     "execution_count": 6,
     "metadata": {},
     "output_type": "execute_result"
    }
   ],
   "source": [
    "import pandas as pd\n",
    "df= pd.read_csv(r\"C:\\Users\\SAPNA\\Amazon_Web_Scrapper_Dataset.csv\")\n",
    "df"
   ]
  },
  {
   "cell_type": "code",
   "execution_count": 7,
   "id": "8996f072",
   "metadata": {},
   "outputs": [],
   "source": [
    "# appending data to the csv using a+ to append\n",
    "#  building some automatic one\n",
    "\n",
    "with open('Amazon_Web_Scrapper_Dataset.csv', 'a+', newline='', encoding='UTF8') as f:\n",
    "    writer = csv.writer(f)\n",
    "    writer.writerow(data)"
   ]
  },
  {
   "cell_type": "code",
   "execution_count": 8,
   "id": "59938c7a",
   "metadata": {},
   "outputs": [],
   "source": [
    "# automating \n",
    "\n",
    "#Combine all of the above code into one function i.e check price\n",
    "\n",
    "\n",
    "\n",
    "\n",
    "def check_price():\n",
    "    # Connect to website \n",
    "    URL = 'https://www.amazon.in/Brother-DCP-T426W-Wi-Fi-Multifunction-Printer/dp/B0B38NFCCQ/ref=sr_1_7?keywords=brother+printer&qid=1687196122&sprefix=brother%2Caps%2C295&sr=8-7'\n",
    "\n",
    "    # Set the headers\n",
    "    headers = {\n",
    "        \"User-Agent\": \"Mozilla/5.0 (Windows NT 10.0; Win64; x64) AppleWebKit/537.36 (KHTML, like Gecko) Chrome/114.0.0.0 Safari/537.36\"\n",
    "    }\n",
    "\n",
    "    # Send a GET request to the URL with headers\n",
    "    page = requests.get(URL, headers=headers)\n",
    "\n",
    "    soup1 = BeautifulSoup(page.content, \"html.parser\")\n",
    "    soup2 = BeautifulSoup(soup1.prettify(), 'html.parser')\n",
    "\n",
    "    # Extract the title\n",
    "    title = soup2.find(id=\"productTitle\").get_text().strip()\n",
    "\n",
    "    # Extract the price\n",
    "    price_element = soup1.find(class_='a-price-whole')\n",
    "    price = price_element.get_text().strip() if price_element else 'Price not found'\n",
    "\n",
    "    # Get the current date\n",
    "    today = datetime.date.today()\n",
    "\n",
    "    # Prepare data for CSV\n",
    "    header = ['Product_Title', 'Price', 'Date']\n",
    "    data = [title, price, today]\n",
    "\n",
    "    # Write data to CSV file\n",
    "    with open('Amazon_Web_Scrapper_Dataset.csv', 'a+', newline='', encoding='UTF8') as f:\n",
    "        writer = csv.writer(f)\n",
    "        writer.writerow(header)\n",
    "        writer.writerow(data)\n",
    "\n",
    "\n",
    "    \n",
    "# did these to put these basically on a timer...  example- to check once in a day what is the price + even if its in my price band i can trigger to send email\n"
   ]
  },
  {
   "cell_type": "code",
   "execution_count": 9,
   "id": "779829a7",
   "metadata": {},
   "outputs": [
    {
     "ename": "KeyboardInterrupt",
     "evalue": "",
     "output_type": "error",
     "traceback": [
      "\u001b[1;31m---------------------------------------------------------------------------\u001b[0m",
      "\u001b[1;31mKeyboardInterrupt\u001b[0m                         Traceback (most recent call last)",
      "Cell \u001b[1;32mIn[9], line 3\u001b[0m\n\u001b[0;32m      1\u001b[0m \u001b[38;5;28;01mwhile\u001b[39;00m \u001b[38;5;28;01mTrue\u001b[39;00m:\n\u001b[0;32m      2\u001b[0m     check_price()\n\u001b[1;32m----> 3\u001b[0m     \u001b[43mtime\u001b[49m\u001b[38;5;241;43m.\u001b[39;49m\u001b[43msleep\u001b[49m\u001b[43m(\u001b[49m\u001b[38;5;241;43m5\u001b[39;49m\u001b[43m)\u001b[49m\n",
      "\u001b[1;31mKeyboardInterrupt\u001b[0m: "
     ]
    }
   ],
   "source": [
    "while True:\n",
    "    check_price()\n",
    "    time.sleep(5)\n",
    " #these will check price every day\n",
    "    \n",
    "      "
   ]
  },
  {
   "cell_type": "code",
   "execution_count": null,
   "id": "d66dc538",
   "metadata": {},
   "outputs": [],
   "source": [
    "import pandas as pd\n",
    "df= pd.read_csv(r\"C:\\Users\\SAPNA\\Amazon_Web_Scrapper_Dataset.csv\")\n",
    "df\n"
   ]
  },
  {
   "cell_type": "code",
   "execution_count": null,
   "id": "3b9945ad",
   "metadata": {},
   "outputs": [],
   "source": []
  },
  {
   "cell_type": "code",
   "execution_count": null,
   "id": "4315bf85",
   "metadata": {},
   "outputs": [],
   "source": []
  }
 ],
 "metadata": {
  "kernelspec": {
   "display_name": "Python 3 (ipykernel)",
   "language": "python",
   "name": "python3"
  },
  "language_info": {
   "codemirror_mode": {
    "name": "ipython",
    "version": 3
   },
   "file_extension": ".py",
   "mimetype": "text/x-python",
   "name": "python",
   "nbconvert_exporter": "python",
   "pygments_lexer": "ipython3",
   "version": "3.10.9"
  }
 },
 "nbformat": 4,
 "nbformat_minor": 5
}
